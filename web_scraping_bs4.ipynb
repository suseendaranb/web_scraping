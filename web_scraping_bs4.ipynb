{
 "cells": [
  {
   "cell_type": "code",
   "execution_count": 2,
   "metadata": {},
   "outputs": [],
   "source": [
    "import requests # grans the html file\n",
    "from bs4 import BeautifulSoup # helps us work with the html file\n",
    "import pprint"
   ]
  },
  {
   "cell_type": "code",
   "execution_count": 3,
   "metadata": {},
   "outputs": [],
   "source": [
    "res = requests.get('https://news.ycombinator.com/') # this is what any browser is using underneath the hood\n",
    "soup = BeautifulSoup(res.text, 'html.parser') # bs can parser html and xml etc\n",
    "#print(soup.find(id ='score_23023675')) # .body.contents, .title, .a, .find\n",
    "links = soup.select('.storylink') #css selector is a list ways to grab an  element from html file\n",
    "#here '.' means it is a class\n",
    "subtext = soup.select('.subtext')\n",
    "#votes = soup.select('.score')"
   ]
  },
  {
   "cell_type": "code",
   "execution_count": 4,
   "metadata": {},
   "outputs": [
    {
     "name": "stdout",
     "output_type": "stream",
     "text": [
      "[{'link': 'https://www.cnbc.com/2020/04/29/lyft-lays-off-17percent-of-workforce-furloughs-hundreds-more.html',\n",
      "  'title': 'Lyft lays off 17% of workforce, furloughs hundreds more',\n",
      "  'votes': 539},\n",
      " {'link': 'https://webwormhole.io/',\n",
      "  'title': 'WebWormHole: Send files quickly using WebRTC',\n",
      "  'votes': 296},\n",
      " {'link': 'https://www.medrxiv.org/content/10.1101/2020.04.24.20075838v1',\n",
      "  'title': 'Vitamin D Insufficiency is Prevalent in Severe Covid-19',\n",
      "  'votes': 272},\n",
      " {'link': 'http://beza1e1.tuxen.de/lore/index.html',\n",
      "  'title': 'Software Folklore – A collection of weird bug stories',\n",
      "  'votes': 244},\n",
      " {'link': 'https://insomnia.rest/blog/introducing-designer/',\n",
      "  'title': 'Show HN: Insomnia Designer – Open-source collaborative editor for '\n",
      "           'API design',\n",
      "  'votes': 220},\n",
      " {'link': 'https://danluu.com/sounds-easy/',\n",
      "  'title': 'I could do that in a weekend (2016)',\n",
      "  'votes': 206},\n",
      " {'link': 'https://www.nytimes.com/2020/04/29/business/boeing-earnings-coronavirus-jobs.html',\n",
      "  'title': 'Boeing, expecting a long slump, will cut 16k jobs',\n",
      "  'votes': 170},\n",
      " {'link': 'https://arxiv.org/abs/2002.11523',\n",
      "  'title': 'Using Reinforcement Learning in the Algorithmic Trading Problem',\n",
      "  'votes': 162},\n",
      " {'link': 'https://ir.tesla.com/static-files/c1723af4-ffda-4881-ae12-b6f3c972b795',\n",
      "  'title': 'Tesla Q1 2020 Update',\n",
      "  'votes': 161},\n",
      " {'link': 'https://healeycodes.com/hacking-together-an-e-ink-dashboard/',\n",
      "  'title': 'Hacking Together an E-ink Dashboard',\n",
      "  'votes': 159},\n",
      " {'link': 'https://www.quantamagazine.org/what-can-other-coronaviruses-tell-us-about-sars-cov-2-20200429/',\n",
      "  'title': 'What other coronaviruses tell us about SARS-CoV-2',\n",
      "  'votes': 155},\n",
      " {'link': 'https://m-en.yna.co.kr/view/AEN20200429007051320',\n",
      "  'title': \"Recovered virus patients retest positive due to 'dead' virus \"\n",
      "           'fragments: experts',\n",
      "  'votes': 153},\n",
      " {'link': 'https://effectiviology.com/ennui/',\n",
      "  'title': 'Ennui: How to Overcome Chronic Boredom',\n",
      "  'votes': 152},\n",
      " {'link': 'https://genneko.github.io/playing-with-bsd/networking/freebsd-wireguard-jail/',\n",
      "  'title': \"Building a WireGuard jail with FreeBSD's standard tools\",\n",
      "  'votes': 135},\n",
      " {'link': 'https://research-football.dev/',\n",
      "  'title': 'Google Research Football',\n",
      "  'votes': 102}]\n"
     ]
    }
   ],
   "source": [
    "def sort_stories_by_votes(hnlist):\n",
    "\treturn sorted(hnlist, key=lambda k:k['votes'], reverse = True)\n",
    "\n",
    "\n",
    "def create_custom_hn(links, subtext):\n",
    "\thn = []\n",
    "\tfor idx, item in enumerate(links):\n",
    "\t\ttitle = links[idx].getText()\n",
    "\t\thref = links[idx].get('href', None)\n",
    "\t\tvote = subtext[idx].select('.score')\n",
    "\t\tif len(vote):\n",
    "\t\t\tpoints = int(vote[0].getText().replace(' points',''))\n",
    "\t\t\tif points > 99:\n",
    "\t\t\t\thn.append({'title':title, 'link':href, 'votes':points})\n",
    "\treturn sort_stories_by_votes(hn)\n",
    "\n",
    "pprint.pprint(create_custom_hn(links, subtext))"
   ]
  },
  {
   "cell_type": "code",
   "execution_count": null,
   "metadata": {},
   "outputs": [],
   "source": []
  }
 ],
 "metadata": {
  "kernelspec": {
   "display_name": "Python 3",
   "language": "python",
   "name": "python3"
  },
  "language_info": {
   "codemirror_mode": {
    "name": "ipython",
    "version": 3
   },
   "file_extension": ".py",
   "mimetype": "text/x-python",
   "name": "python",
   "nbconvert_exporter": "python",
   "pygments_lexer": "ipython3",
   "version": "3.7.6"
  }
 },
 "nbformat": 4,
 "nbformat_minor": 4
}
